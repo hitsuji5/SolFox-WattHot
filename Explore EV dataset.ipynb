{
 "cells": [
  {
   "cell_type": "code",
   "execution_count": 145,
   "metadata": {
    "collapsed": false
   },
   "outputs": [
    {
     "data": {
      "text/plain": [
       "(37241, 15)"
      ]
     },
     "execution_count": 145,
     "metadata": {},
     "output_type": "execute_result"
    }
   ],
   "source": [
    "features = ['atvType', 'make', 'model', 'year', 'cityE', 'evMotor', 'highwayE', 'combE', 'range', 'rangeCity', 'rangeHwy', 'c240Dscr', 'c240bDscr', 'charge240', 'charge240b']\n",
    "df = pd.read_csv('vehicles.csv', usecols=features, dtype={'evMotor' : 'str', 'c240Dscr' : 'str', 'c240bDscr': 'str'})\n",
    "df.shape"
   ]
  },
  {
   "cell_type": "code",
   "execution_count": 88,
   "metadata": {
    "collapsed": false
   },
   "outputs": [
    {
     "data": {
      "text/plain": [
       "Index(['barrels08', 'barrelsA08', 'charge120', 'charge240', 'city08',\n",
       "       'city08U', 'cityA08', 'cityA08U', 'cityCD', 'cityE', 'cityUF', 'co2',\n",
       "       'co2A', 'co2TailpipeAGpm', 'co2TailpipeGpm', 'comb08', 'comb08U',\n",
       "       'combA08', 'combA08U', 'combE', 'combinedCD', 'combinedUF', 'cylinders',\n",
       "       'displ', 'drive', 'engId', 'eng_dscr', 'feScore', 'fuelCost08',\n",
       "       'fuelCostA08', 'fuelType', 'fuelType1', 'ghgScore', 'ghgScoreA',\n",
       "       'highway08', 'highway08U', 'highwayA08', 'highwayA08U', 'highwayCD',\n",
       "       'highwayE', 'highwayUF', 'hlv', 'hpv', 'id', 'lv2', 'lv4', 'make',\n",
       "       'model', 'mpgData', 'phevBlended', 'pv2', 'pv4', 'range', 'rangeCity',\n",
       "       'rangeCityA', 'rangeHwy', 'rangeHwyA', 'trany', 'UCity', 'UCityA',\n",
       "       'UHighway', 'UHighwayA', 'VClass', 'year', 'youSaveSpend', 'guzzler',\n",
       "       'trans_dscr', 'tCharger', 'sCharger', 'atvType', 'fuelType2', 'rangeA',\n",
       "       'evMotor', 'mfrCode', 'c240Dscr', 'charge240b', 'c240bDscr',\n",
       "       'createdOn', 'modifiedOn', 'startStop', 'phevCity', 'phevHwy',\n",
       "       'phevComb'],\n",
       "      dtype='object')"
      ]
     },
     "execution_count": 88,
     "metadata": {},
     "output_type": "execute_result"
    }
   ],
   "source": [
    "df.columns"
   ]
  },
  {
   "cell_type": "code",
   "execution_count": 146,
   "metadata": {
    "collapsed": false
   },
   "outputs": [
    {
     "data": {
      "text/html": [
       "<div>\n",
       "<table border=\"1\" class=\"dataframe\">\n",
       "  <thead>\n",
       "    <tr style=\"text-align: right;\">\n",
       "      <th></th>\n",
       "      <th>charge240</th>\n",
       "      <th>cityE</th>\n",
       "      <th>combE</th>\n",
       "      <th>highwayE</th>\n",
       "      <th>make</th>\n",
       "      <th>model</th>\n",
       "      <th>range</th>\n",
       "      <th>rangeCity</th>\n",
       "      <th>rangeHwy</th>\n",
       "      <th>year</th>\n",
       "      <th>atvType</th>\n",
       "      <th>evMotor</th>\n",
       "      <th>c240Dscr</th>\n",
       "      <th>charge240b</th>\n",
       "      <th>c240bDscr</th>\n",
       "    </tr>\n",
       "  </thead>\n",
       "  <tbody>\n",
       "    <tr>\n",
       "      <th>7138</th>\n",
       "      <td>0.0</td>\n",
       "      <td>41.0</td>\n",
       "      <td>40.0</td>\n",
       "      <td>37.0</td>\n",
       "      <td>Nissan</td>\n",
       "      <td>Altra EV</td>\n",
       "      <td>90</td>\n",
       "      <td>0.0</td>\n",
       "      <td>0.0</td>\n",
       "      <td>2000</td>\n",
       "      <td>EV</td>\n",
       "      <td>62 KW AC Induction</td>\n",
       "      <td>NaN</td>\n",
       "      <td>0.0</td>\n",
       "      <td>NaN</td>\n",
       "    </tr>\n",
       "    <tr>\n",
       "      <th>7139</th>\n",
       "      <td>0.0</td>\n",
       "      <td>41.0</td>\n",
       "      <td>47.0</td>\n",
       "      <td>53.0</td>\n",
       "      <td>Toyota</td>\n",
       "      <td>RAV4 EV</td>\n",
       "      <td>88</td>\n",
       "      <td>0.0</td>\n",
       "      <td>0.0</td>\n",
       "      <td>2000</td>\n",
       "      <td>EV</td>\n",
       "      <td>50 KW DC</td>\n",
       "      <td>NaN</td>\n",
       "      <td>0.0</td>\n",
       "      <td>NaN</td>\n",
       "    </tr>\n",
       "    <tr>\n",
       "      <th>8143</th>\n",
       "      <td>0.0</td>\n",
       "      <td>41.0</td>\n",
       "      <td>47.0</td>\n",
       "      <td>53.0</td>\n",
       "      <td>Toyota</td>\n",
       "      <td>RAV4 EV</td>\n",
       "      <td>88</td>\n",
       "      <td>0.0</td>\n",
       "      <td>0.0</td>\n",
       "      <td>2001</td>\n",
       "      <td>EV</td>\n",
       "      <td>50 KW DC</td>\n",
       "      <td>NaN</td>\n",
       "      <td>0.0</td>\n",
       "      <td>NaN</td>\n",
       "    </tr>\n",
       "    <tr>\n",
       "      <th>8144</th>\n",
       "      <td>0.0</td>\n",
       "      <td>46.0</td>\n",
       "      <td>52.0</td>\n",
       "      <td>59.0</td>\n",
       "      <td>Ford</td>\n",
       "      <td>Th!nk</td>\n",
       "      <td>29</td>\n",
       "      <td>0.0</td>\n",
       "      <td>0.0</td>\n",
       "      <td>2001</td>\n",
       "      <td>EV</td>\n",
       "      <td>27 KW AC Induction</td>\n",
       "      <td>NaN</td>\n",
       "      <td>0.0</td>\n",
       "      <td>NaN</td>\n",
       "    </tr>\n",
       "    <tr>\n",
       "      <th>8146</th>\n",
       "      <td>0.0</td>\n",
       "      <td>75.0</td>\n",
       "      <td>87.0</td>\n",
       "      <td>102.0</td>\n",
       "      <td>Ford</td>\n",
       "      <td>Explorer USPS Electric</td>\n",
       "      <td>38</td>\n",
       "      <td>0.0</td>\n",
       "      <td>0.0</td>\n",
       "      <td>2001</td>\n",
       "      <td>EV</td>\n",
       "      <td>67 KW AC Induction</td>\n",
       "      <td>NaN</td>\n",
       "      <td>0.0</td>\n",
       "      <td>NaN</td>\n",
       "    </tr>\n",
       "  </tbody>\n",
       "</table>\n",
       "</div>"
      ],
      "text/plain": [
       "      charge240  cityE  combE  highwayE    make                   model  \\\n",
       "7138        0.0   41.0   40.0      37.0  Nissan                Altra EV   \n",
       "7139        0.0   41.0   47.0      53.0  Toyota                 RAV4 EV   \n",
       "8143        0.0   41.0   47.0      53.0  Toyota                 RAV4 EV   \n",
       "8144        0.0   46.0   52.0      59.0    Ford                   Th!nk   \n",
       "8146        0.0   75.0   87.0     102.0    Ford  Explorer USPS Electric   \n",
       "\n",
       "      range  rangeCity  rangeHwy  year atvType             evMotor c240Dscr  \\\n",
       "7138     90        0.0       0.0  2000      EV  62 KW AC Induction      NaN   \n",
       "7139     88        0.0       0.0  2000      EV            50 KW DC      NaN   \n",
       "8143     88        0.0       0.0  2001      EV            50 KW DC      NaN   \n",
       "8144     29        0.0       0.0  2001      EV  27 KW AC Induction      NaN   \n",
       "8146     38        0.0       0.0  2001      EV  67 KW AC Induction      NaN   \n",
       "\n",
       "      charge240b c240bDscr  \n",
       "7138         0.0       NaN  \n",
       "7139         0.0       NaN  \n",
       "8143         0.0       NaN  \n",
       "8144         0.0       NaN  \n",
       "8146         0.0       NaN  "
      ]
     },
     "execution_count": 146,
     "metadata": {},
     "output_type": "execute_result"
    }
   ],
   "source": [
    "# df_ev = df.query(\"atvType == 'EV' | atvType == 'Plug-in Hybrid'\")\n",
    "df_ev = df[df.atvType == 'EV']\n",
    "df_ev.head()"
   ]
  },
  {
   "cell_type": "code",
   "execution_count": 140,
   "metadata": {
    "collapsed": false
   },
   "outputs": [
    {
     "data": {
      "text/html": [
       "<div>\n",
       "<table border=\"1\" class=\"dataframe\">\n",
       "  <thead>\n",
       "    <tr style=\"text-align: right;\">\n",
       "      <th></th>\n",
       "      <th>charge240</th>\n",
       "      <th>cityE</th>\n",
       "      <th>combE</th>\n",
       "      <th>highwayE</th>\n",
       "      <th>make</th>\n",
       "      <th>model</th>\n",
       "      <th>range</th>\n",
       "      <th>rangeCity</th>\n",
       "      <th>rangeHwy</th>\n",
       "      <th>year</th>\n",
       "      <th>atvType</th>\n",
       "      <th>evMotor</th>\n",
       "      <th>c240Dscr</th>\n",
       "      <th>charge240b</th>\n",
       "      <th>c240bDscr</th>\n",
       "    </tr>\n",
       "  </thead>\n",
       "  <tbody>\n",
       "    <tr>\n",
       "      <th>23040</th>\n",
       "      <td>0.0</td>\n",
       "      <td>33.0</td>\n",
       "      <td>34.0</td>\n",
       "      <td>36.0</td>\n",
       "      <td>MINI</td>\n",
       "      <td>MiniE</td>\n",
       "      <td>100</td>\n",
       "      <td>0.0000</td>\n",
       "      <td>0.0000</td>\n",
       "      <td>2008</td>\n",
       "      <td>EV</td>\n",
       "      <td>150 kW</td>\n",
       "      <td>NaN</td>\n",
       "      <td>0.0</td>\n",
       "      <td>NaN</td>\n",
       "    </tr>\n",
       "    <tr>\n",
       "      <th>23041</th>\n",
       "      <td>7.0</td>\n",
       "      <td>32.0</td>\n",
       "      <td>34.0</td>\n",
       "      <td>37.0</td>\n",
       "      <td>Nissan</td>\n",
       "      <td>Leaf</td>\n",
       "      <td>73</td>\n",
       "      <td>0.0000</td>\n",
       "      <td>0.0000</td>\n",
       "      <td>2011</td>\n",
       "      <td>EV</td>\n",
       "      <td>80 kW DCPM</td>\n",
       "      <td>NaN</td>\n",
       "      <td>0.0</td>\n",
       "      <td>NaN</td>\n",
       "    </tr>\n",
       "    <tr>\n",
       "      <th>23137</th>\n",
       "      <td>8.0</td>\n",
       "      <td>36.0</td>\n",
       "      <td>39.0</td>\n",
       "      <td>43.0</td>\n",
       "      <td>smart</td>\n",
       "      <td>fortwo electric drive cabriolet</td>\n",
       "      <td>63</td>\n",
       "      <td>0.0000</td>\n",
       "      <td>0.0000</td>\n",
       "      <td>2011</td>\n",
       "      <td>EV</td>\n",
       "      <td>30 kW DCPM</td>\n",
       "      <td>NaN</td>\n",
       "      <td>0.0</td>\n",
       "      <td>NaN</td>\n",
       "    </tr>\n",
       "    <tr>\n",
       "      <th>23138</th>\n",
       "      <td>8.0</td>\n",
       "      <td>36.0</td>\n",
       "      <td>39.0</td>\n",
       "      <td>43.0</td>\n",
       "      <td>smart</td>\n",
       "      <td>fortwo electric drive coupe</td>\n",
       "      <td>63</td>\n",
       "      <td>0.0000</td>\n",
       "      <td>0.0000</td>\n",
       "      <td>2011</td>\n",
       "      <td>EV</td>\n",
       "      <td>30 kW DCPM</td>\n",
       "      <td>NaN</td>\n",
       "      <td>0.0</td>\n",
       "      <td>NaN</td>\n",
       "    </tr>\n",
       "    <tr>\n",
       "      <th>23807</th>\n",
       "      <td>7.0</td>\n",
       "      <td>27.0</td>\n",
       "      <td>30.0</td>\n",
       "      <td>34.0</td>\n",
       "      <td>Mitsubishi</td>\n",
       "      <td>i-MiEV</td>\n",
       "      <td>62</td>\n",
       "      <td>68.5545</td>\n",
       "      <td>54.8184</td>\n",
       "      <td>2012</td>\n",
       "      <td>EV</td>\n",
       "      <td>49 kW DCPM</td>\n",
       "      <td>NaN</td>\n",
       "      <td>0.0</td>\n",
       "      <td>NaN</td>\n",
       "    </tr>\n",
       "    <tr>\n",
       "      <th>24051</th>\n",
       "      <td>8.0</td>\n",
       "      <td>55.0</td>\n",
       "      <td>54.0</td>\n",
       "      <td>54.0</td>\n",
       "      <td>Azure Dynamics</td>\n",
       "      <td>Transit Connect Electric Van</td>\n",
       "      <td>56</td>\n",
       "      <td>56.7812</td>\n",
       "      <td>55.6759</td>\n",
       "      <td>2012</td>\n",
       "      <td>EV</td>\n",
       "      <td>52 kW AC Induction</td>\n",
       "      <td>NaN</td>\n",
       "      <td>0.0</td>\n",
       "      <td>NaN</td>\n",
       "    </tr>\n",
       "    <tr>\n",
       "      <th>24052</th>\n",
       "      <td>8.0</td>\n",
       "      <td>55.0</td>\n",
       "      <td>54.0</td>\n",
       "      <td>54.0</td>\n",
       "      <td>Azure Dynamics</td>\n",
       "      <td>Transit Connect Electric Wagon</td>\n",
       "      <td>56</td>\n",
       "      <td>56.7812</td>\n",
       "      <td>55.6759</td>\n",
       "      <td>2012</td>\n",
       "      <td>EV</td>\n",
       "      <td>52 kW AC Induction</td>\n",
       "      <td>NaN</td>\n",
       "      <td>0.0</td>\n",
       "      <td>NaN</td>\n",
       "    </tr>\n",
       "    <tr>\n",
       "      <th>24341</th>\n",
       "      <td>7.0</td>\n",
       "      <td>32.0</td>\n",
       "      <td>34.0</td>\n",
       "      <td>37.0</td>\n",
       "      <td>Nissan</td>\n",
       "      <td>Leaf</td>\n",
       "      <td>73</td>\n",
       "      <td>77.1650</td>\n",
       "      <td>67.3160</td>\n",
       "      <td>2012</td>\n",
       "      <td>EV</td>\n",
       "      <td>80 kW DCPM</td>\n",
       "      <td>NaN</td>\n",
       "      <td>0.0</td>\n",
       "      <td>NaN</td>\n",
       "    </tr>\n",
       "    <tr>\n",
       "      <th>24472</th>\n",
       "      <td>5.0</td>\n",
       "      <td>32.0</td>\n",
       "      <td>33.0</td>\n",
       "      <td>35.0</td>\n",
       "      <td>BMW</td>\n",
       "      <td>Active E</td>\n",
       "      <td>94</td>\n",
       "      <td>0.0000</td>\n",
       "      <td>0.0000</td>\n",
       "      <td>2011</td>\n",
       "      <td>EV</td>\n",
       "      <td>125 kW AC Induction</td>\n",
       "      <td>NaN</td>\n",
       "      <td>0.0</td>\n",
       "      <td>NaN</td>\n",
       "    </tr>\n",
       "    <tr>\n",
       "      <th>24473</th>\n",
       "      <td>6.0</td>\n",
       "      <td>44.0</td>\n",
       "      <td>46.0</td>\n",
       "      <td>50.0</td>\n",
       "      <td>CODA Automotive</td>\n",
       "      <td>CODA</td>\n",
       "      <td>88</td>\n",
       "      <td>93.5550</td>\n",
       "      <td>93.5550</td>\n",
       "      <td>2012</td>\n",
       "      <td>EV</td>\n",
       "      <td>100 kW DCPM</td>\n",
       "      <td>NaN</td>\n",
       "      <td>0.0</td>\n",
       "      <td>NaN</td>\n",
       "    </tr>\n",
       "  </tbody>\n",
       "</table>\n",
       "</div>"
      ],
      "text/plain": [
       "      charge240  cityE  combE  highwayE             make  \\\n",
       "23040       0.0   33.0   34.0      36.0             MINI   \n",
       "23041       7.0   32.0   34.0      37.0           Nissan   \n",
       "23137       8.0   36.0   39.0      43.0            smart   \n",
       "23138       8.0   36.0   39.0      43.0            smart   \n",
       "23807       7.0   27.0   30.0      34.0       Mitsubishi   \n",
       "24051       8.0   55.0   54.0      54.0   Azure Dynamics   \n",
       "24052       8.0   55.0   54.0      54.0   Azure Dynamics   \n",
       "24341       7.0   32.0   34.0      37.0           Nissan   \n",
       "24472       5.0   32.0   33.0      35.0              BMW   \n",
       "24473       6.0   44.0   46.0      50.0  CODA Automotive   \n",
       "\n",
       "                                 model  range  rangeCity  rangeHwy  year  \\\n",
       "23040                            MiniE    100     0.0000    0.0000  2008   \n",
       "23041                             Leaf     73     0.0000    0.0000  2011   \n",
       "23137  fortwo electric drive cabriolet     63     0.0000    0.0000  2011   \n",
       "23138      fortwo electric drive coupe     63     0.0000    0.0000  2011   \n",
       "23807                           i-MiEV     62    68.5545   54.8184  2012   \n",
       "24051     Transit Connect Electric Van     56    56.7812   55.6759  2012   \n",
       "24052   Transit Connect Electric Wagon     56    56.7812   55.6759  2012   \n",
       "24341                             Leaf     73    77.1650   67.3160  2012   \n",
       "24472                         Active E     94     0.0000    0.0000  2011   \n",
       "24473                             CODA     88    93.5550   93.5550  2012   \n",
       "\n",
       "      atvType              evMotor c240Dscr charge240b c240bDscr  \n",
       "23040      EV               150 kW      NaN        0.0       NaN  \n",
       "23041      EV           80 kW DCPM      NaN        0.0       NaN  \n",
       "23137      EV           30 kW DCPM      NaN        0.0       NaN  \n",
       "23138      EV           30 kW DCPM      NaN        0.0       NaN  \n",
       "23807      EV           49 kW DCPM      NaN        0.0       NaN  \n",
       "24051      EV   52 kW AC Induction      NaN        0.0       NaN  \n",
       "24052      EV   52 kW AC Induction      NaN        0.0       NaN  \n",
       "24341      EV           80 kW DCPM      NaN        0.0       NaN  \n",
       "24472      EV  125 kW AC Induction      NaN        0.0       NaN  \n",
       "24473      EV          100 kW DCPM      NaN        0.0       NaN  "
      ]
     },
     "execution_count": 140,
     "metadata": {},
     "output_type": "execute_result"
    }
   ],
   "source": [
    "df_ev[df_ev.year>2005].head(10)"
   ]
  },
  {
   "cell_type": "code",
   "execution_count": 96,
   "metadata": {
    "collapsed": false
   },
   "outputs": [
    {
     "data": {
      "text/plain": [
       "array([nan, 'single charger', '3.6 kW charger', 'standard charger',\n",
       "       '7.2 kW charger', '6.6 kW charger'], dtype=object)"
      ]
     },
     "execution_count": 96,
     "metadata": {},
     "output_type": "execute_result"
    }
   ],
   "source": [
    "df_ev[df_ev.atvType == 'EV'].c240Dscr.unique()"
   ]
  },
  {
   "cell_type": "code",
   "execution_count": 97,
   "metadata": {
    "collapsed": false
   },
   "outputs": [
    {
     "data": {
      "text/plain": [
       "array([nan, 'dual charger', '6.6 kW charger', '80 amp dual charger',\n",
       "       '3.6 kW charger'], dtype=object)"
      ]
     },
     "execution_count": 97,
     "metadata": {},
     "output_type": "execute_result"
    }
   ],
   "source": [
    "df_ev[df_ev.atvType == 'EV'].c240bDscr.unique()"
   ]
  },
  {
   "cell_type": "code",
   "execution_count": 106,
   "metadata": {
    "collapsed": false
   },
   "outputs": [
    {
     "data": {
      "text/plain": [
       "array([nan, 'Diesel', 'Hybrid', 'Bifuel (CNG)', 'CNG', 'FFV', 'EV',\n",
       "       'Bifuel (LPG)', 'Plug-in Hybrid'], dtype=object)"
      ]
     },
     "execution_count": 106,
     "metadata": {},
     "output_type": "execute_result"
    }
   ],
   "source": [
    "df_ev.atvType.unique()"
   ]
  },
  {
   "cell_type": "code",
   "execution_count": 148,
   "metadata": {
    "collapsed": false
   },
   "outputs": [],
   "source": [
    "import sqlite3\n",
    "with sqlite3.connect('ev_model.db') as conn:\n",
    "    df_ev[df_ev['charge240']>0].to_sql('spec', conn)"
   ]
  },
  {
   "cell_type": "code",
   "execution_count": 149,
   "metadata": {
    "collapsed": false
   },
   "outputs": [
    {
     "name": "stdout",
     "output_type": "stream",
     "text": [
      "(7.0, 'Leaf', 'Nissan')\n",
      "(8.0, 'fortwo electric drive cabriolet', 'smart')\n",
      "(8.0, 'fortwo electric drive coupe', 'smart')\n",
      "(7.0, 'i-MiEV', 'Mitsubishi')\n",
      "(8.0, 'Transit Connect Electric Van', 'Azure Dynamics')\n",
      "(8.0, 'Transit Connect Electric Wagon', 'Azure Dynamics')\n",
      "(7.0, 'Leaf', 'Nissan')\n",
      "(5.0, 'Active E', 'BMW')\n",
      "(6.0, 'CODA', 'CODA Automotive')\n",
      "(4.0, 'Focus Electric', 'Ford')\n"
     ]
    }
   ],
   "source": [
    "def select_models(n):\n",
    "    cur.execute('SELECT charge240, model, make FROM spec LIMIT ?', (n, ))\n",
    "    for row in cur:\n",
    "        print(row)\n",
    "\n",
    "conn = sqlite3.connect('ev_model.db')\n",
    "cur = conn.cursor()\n",
    "select_models(10)"
   ]
  },
  {
   "cell_type": "code",
   "execution_count": null,
   "metadata": {
    "collapsed": true
   },
   "outputs": [],
   "source": []
  }
 ],
 "metadata": {
  "kernelspec": {
   "display_name": "Python 3",
   "language": "python",
   "name": "python3"
  },
  "language_info": {
   "codemirror_mode": {
    "name": "ipython",
    "version": 3
   },
   "file_extension": ".py",
   "mimetype": "text/x-python",
   "name": "python",
   "nbconvert_exporter": "python",
   "pygments_lexer": "ipython3",
   "version": "3.5.1"
  }
 },
 "nbformat": 4,
 "nbformat_minor": 0
}
